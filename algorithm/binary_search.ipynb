{
 "cells": [
  {
   "attachments": {},
   "cell_type": "markdown",
   "metadata": {},
   "source": [
    "# 주의사항 # \n",
    "일반적인 이진탐색은 left > right 이면 종료  \n",
    "lower(upper) bound는 left >= right 이면 종료  \n",
    "\n",
    "이진탐색은 right = mid -1, left = mid +1  \n",
    "bound 탐색은 right = mid, left = mid +1  \n",
    "\n",
    "lower bound는 array\\[mid\\] >= target이면 right = mid  \n",
    "upper bound는 array\\[mid\\] > target이면 right = mid"
   ]
  },
  {
   "cell_type": "code",
   "execution_count": 31,
   "metadata": {},
   "outputs": [],
   "source": [
    "RED = '\\033[91m'\n",
    "GREEN = '\\033[32m'\n",
    "RESET = '\\033[0m'\n",
    "import sys;\n",
    "def print_array(left, right, array, mid, target):\n",
    "    for idx, item in enumerate(array):\n",
    "        if left <= idx <= right:\n",
    "            sys.stdout.write((RED if idx != mid else GREEN)+str(item)+RESET + ' ')\n",
    "        else:\n",
    "            sys.stdout.write(str(item) + ' ')\n",
    "    sys.stdout.write(\"  target: {}, mid: {} => {}\\n\".format(target, array[mid], \"left = mid+1\" if target > array[mid] else \"right = mid-1\"))"
   ]
  },
  {
   "attachments": {},
   "cell_type": "markdown",
   "metadata": {},
   "source": [
    "## 이진탐색 ##"
   ]
  },
  {
   "attachments": {},
   "cell_type": "markdown",
   "metadata": {},
   "source": [
    "### 기본적인 이진탐색 함수 ###"
   ]
  },
  {
   "cell_type": "code",
   "execution_count": 37,
   "metadata": {},
   "outputs": [],
   "source": [
    "def binary_search_recursive(left, right, array, target):\n",
    "    if left > right:\n",
    "        return -1\n",
    "    \n",
    "    mid = (left+right)//2\n",
    "    print_array(left, right, array, mid, target)\n",
    "    if array[mid] > target:\n",
    "        return binary_search_recursive(left, mid-1, array, target)\n",
    "    elif array[mid] < target:\n",
    "        return binary_search_recursive(mid+1, right, array, target)\n",
    "    else:\n",
    "        return mid\n",
    "\n",
    "def binary_search_while(left, right, array, target):\n",
    "    while left <= right:\n",
    "        mid = (left+right)//2\n",
    "        print_array(left, right, array, mid, target)\n",
    "\n",
    "        if array[mid] > target:\n",
    "            right = mid -1\n",
    "        elif array[mid] < target:\n",
    "            left = mid +1\n",
    "        else:\n",
    "            return mid\n",
    "    return -1"
   ]
  },
  {
   "attachments": {},
   "cell_type": "markdown",
   "metadata": {},
   "source": [
    "### 테스트 함수 ###"
   ]
  },
  {
   "cell_type": "code",
   "execution_count": 63,
   "metadata": {},
   "outputs": [
    {
     "name": "stdout",
     "output_type": "stream",
     "text": [
      "\u001b[91m12\u001b[0m \u001b[91m32\u001b[0m \u001b[91m33\u001b[0m \u001b[91m47\u001b[0m \u001b[91m50\u001b[0m \u001b[91m55\u001b[0m \u001b[91m55\u001b[0m \u001b[91m58\u001b[0m \u001b[91m66\u001b[0m \u001b[32m68\u001b[0m \u001b[91m72\u001b[0m \u001b[91m77\u001b[0m \u001b[91m79\u001b[0m \u001b[91m81\u001b[0m \u001b[91m83\u001b[0m \u001b[91m85\u001b[0m \u001b[91m89\u001b[0m \u001b[91m93\u001b[0m \u001b[91m97\u001b[0m \u001b[91m99\u001b[0m   target: 50, mid: 68 => right = mid-1\n",
      "\u001b[91m12\u001b[0m \u001b[91m32\u001b[0m \u001b[91m33\u001b[0m \u001b[91m47\u001b[0m \u001b[32m50\u001b[0m \u001b[91m55\u001b[0m \u001b[91m55\u001b[0m \u001b[91m58\u001b[0m \u001b[91m66\u001b[0m 68 72 77 79 81 83 85 89 93 97 99   target: 50, mid: 50 => right = mid-1\n",
      "4 50\n",
      "\u001b[91m12\u001b[0m \u001b[91m32\u001b[0m \u001b[91m33\u001b[0m \u001b[91m47\u001b[0m \u001b[91m50\u001b[0m \u001b[91m55\u001b[0m \u001b[91m55\u001b[0m \u001b[91m58\u001b[0m \u001b[91m66\u001b[0m \u001b[32m68\u001b[0m \u001b[91m72\u001b[0m \u001b[91m77\u001b[0m \u001b[91m79\u001b[0m \u001b[91m81\u001b[0m \u001b[91m83\u001b[0m \u001b[91m85\u001b[0m \u001b[91m89\u001b[0m \u001b[91m93\u001b[0m \u001b[91m97\u001b[0m \u001b[91m99\u001b[0m   target: 50, mid: 68 => right = mid-1\n",
      "\u001b[91m12\u001b[0m \u001b[91m32\u001b[0m \u001b[91m33\u001b[0m \u001b[91m47\u001b[0m \u001b[32m50\u001b[0m \u001b[91m55\u001b[0m \u001b[91m55\u001b[0m \u001b[91m58\u001b[0m \u001b[91m66\u001b[0m 68 72 77 79 81 83 85 89 93 97 99   target: 50, mid: 50 => right = mid-1\n",
      "4 50\n"
     ]
    }
   ],
   "source": [
    "import random\n",
    "\n",
    "MIN = 0\n",
    "MAX = 100\n",
    "LENGTH = 20\n",
    "array = [random.randrange(MIN, MAX) for _ in range(LENGTH)]\n",
    "array.sort()\n",
    "result = binary_search_recursive(0, LENGTH-1, array, 50)\n",
    "print(result, array[result])\n",
    "\n",
    "result = binary_search_while(0, LENGTH-1, array, 50)\n",
    "print(result, array[result])"
   ]
  },
  {
   "attachments": {},
   "cell_type": "markdown",
   "metadata": {},
   "source": [
    "## lower_bound ##\n",
    "#### 주어진 수보다 크거나 같은 값 찾기 ####"
   ]
  },
  {
   "cell_type": "code",
   "execution_count": 116,
   "metadata": {},
   "outputs": [],
   "source": [
    "def lower_bound(left, right, array, target):\n",
    "    while left < right: # left <= right 조건이면 무한루프 발생\n",
    "        mid = (left+right)//2\n",
    "        print_array(left, right, array, mid, target)\n",
    "\n",
    "        if array[mid] >= target: # 중복값이 여러개 있다면 내려가야 하니까\n",
    "            right = mid\n",
    "        else:\n",
    "            left = mid +1\n",
    "    return left, right # left == right"
   ]
  },
  {
   "cell_type": "code",
   "execution_count": 140,
   "metadata": {},
   "outputs": [
    {
     "name": "stdout",
     "output_type": "stream",
     "text": [
      "\u001b[91m11\u001b[0m \u001b[91m20\u001b[0m \u001b[91m20\u001b[0m \u001b[91m28\u001b[0m \u001b[91m30\u001b[0m \u001b[91m38\u001b[0m \u001b[91m47\u001b[0m \u001b[91m49\u001b[0m \u001b[91m50\u001b[0m \u001b[32m51\u001b[0m \u001b[91m64\u001b[0m \u001b[91m67\u001b[0m \u001b[91m68\u001b[0m \u001b[91m70\u001b[0m \u001b[91m72\u001b[0m \u001b[91m76\u001b[0m \u001b[91m79\u001b[0m \u001b[91m81\u001b[0m \u001b[91m85\u001b[0m \u001b[91m87\u001b[0m   target: 50, mid: 51 => right = mid-1\n",
      "\u001b[91m11\u001b[0m \u001b[91m20\u001b[0m \u001b[91m20\u001b[0m \u001b[91m28\u001b[0m \u001b[32m30\u001b[0m \u001b[91m38\u001b[0m \u001b[91m47\u001b[0m \u001b[91m49\u001b[0m \u001b[91m50\u001b[0m \u001b[91m51\u001b[0m 64 67 68 70 72 76 79 81 85 87   target: 50, mid: 30 => left = mid+1\n",
      "11 20 20 28 30 \u001b[91m38\u001b[0m \u001b[91m47\u001b[0m \u001b[32m49\u001b[0m \u001b[91m50\u001b[0m \u001b[91m51\u001b[0m 64 67 68 70 72 76 79 81 85 87   target: 50, mid: 49 => left = mid+1\n",
      "11 20 20 28 30 38 47 49 \u001b[32m50\u001b[0m \u001b[91m51\u001b[0m 64 67 68 70 72 76 79 81 85 87   target: 50, mid: 50 => right = mid-1\n",
      "(8, 8) 50 50\n"
     ]
    }
   ],
   "source": [
    "import random\n",
    "\n",
    "MIN = 0\n",
    "MAX = 100\n",
    "LENGTH = 20\n",
    "array = [random.randrange(MIN, MAX) for _ in range(LENGTH)]\n",
    "# array = [50] * LENGTH\n",
    "array.sort()\n",
    "result = lower_bound(0, LENGTH-1, array, 50)\n",
    "print(result, array[result[0]], array[result[1]])"
   ]
  },
  {
   "attachments": {},
   "cell_type": "markdown",
   "metadata": {},
   "source": [
    "## upper_bound ##\n",
    "#### 주어진 수보다 큰 값 찾기 ####"
   ]
  },
  {
   "cell_type": "code",
   "execution_count": 132,
   "metadata": {},
   "outputs": [],
   "source": [
    "def upper_bound(left, right, array, target):\n",
    "    while left < right:\n",
    "        mid = (left+right)//2\n",
    "        print_array(left, right, array, mid, target)\n",
    "\n",
    "        if array[mid] > target:\n",
    "            right = mid\n",
    "        else:\n",
    "            left = mid +1\n",
    "    return left, right"
   ]
  },
  {
   "cell_type": "code",
   "execution_count": 137,
   "metadata": {},
   "outputs": [
    {
     "name": "stdout",
     "output_type": "stream",
     "text": [
      "\u001b[91m50\u001b[0m \u001b[91m50\u001b[0m \u001b[91m50\u001b[0m \u001b[91m50\u001b[0m \u001b[91m50\u001b[0m \u001b[91m50\u001b[0m \u001b[91m50\u001b[0m \u001b[91m50\u001b[0m \u001b[91m50\u001b[0m \u001b[32m50\u001b[0m \u001b[91m50\u001b[0m \u001b[91m50\u001b[0m \u001b[91m50\u001b[0m \u001b[91m50\u001b[0m \u001b[91m50\u001b[0m \u001b[91m50\u001b[0m \u001b[91m50\u001b[0m \u001b[91m50\u001b[0m \u001b[91m50\u001b[0m \u001b[91m50\u001b[0m   target: 50, mid: 50 => right = mid-1\n",
      "50 50 50 50 50 50 50 50 50 50 \u001b[91m50\u001b[0m \u001b[91m50\u001b[0m \u001b[91m50\u001b[0m \u001b[91m50\u001b[0m \u001b[32m50\u001b[0m \u001b[91m50\u001b[0m \u001b[91m50\u001b[0m \u001b[91m50\u001b[0m \u001b[91m50\u001b[0m \u001b[91m50\u001b[0m   target: 50, mid: 50 => right = mid-1\n",
      "50 50 50 50 50 50 50 50 50 50 50 50 50 50 50 \u001b[91m50\u001b[0m \u001b[91m50\u001b[0m \u001b[32m50\u001b[0m \u001b[91m50\u001b[0m \u001b[91m50\u001b[0m   target: 50, mid: 50 => right = mid-1\n",
      "50 50 50 50 50 50 50 50 50 50 50 50 50 50 50 50 50 50 \u001b[32m50\u001b[0m \u001b[91m50\u001b[0m   target: 50, mid: 50 => right = mid-1\n",
      "(19, 19) 50 50\n"
     ]
    }
   ],
   "source": [
    "import random\n",
    "\n",
    "MIN = 0\n",
    "MAX = 100\n",
    "LENGTH = 20\n",
    "# array = [random.randrange(MIN, MAX) for _ in range(LENGTH)]\n",
    "array = [50] * LENGTH\n",
    "array.sort()\n",
    "result = upper_bound(0, LENGTH-1, array, 50)\n",
    "print(result, array[result[0]], array[result[1]])"
   ]
  }
 ],
 "metadata": {
  "kernelspec": {
   "display_name": "Python 3",
   "language": "python",
   "name": "python3"
  },
  "language_info": {
   "codemirror_mode": {
    "name": "ipython",
    "version": 3
   },
   "file_extension": ".py",
   "mimetype": "text/x-python",
   "name": "python",
   "nbconvert_exporter": "python",
   "pygments_lexer": "ipython3",
   "version": "3.11.0"
  },
  "orig_nbformat": 4,
  "vscode": {
   "interpreter": {
    "hash": "c261aea317cc0286b3b3261fbba9abdec21eaa57589985bb7a274bf54d6cc0a7"
   }
  }
 },
 "nbformat": 4,
 "nbformat_minor": 2
}
